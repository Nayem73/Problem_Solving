{
 "cells": [
  {
   "cell_type": "code",
   "execution_count": 1,
   "id": "0f832fcd-315e-4b9c-8e3d-284111a9c03a",
   "metadata": {},
   "outputs": [],
   "source": [
    "import matplotlib.pyplot as plt"
   ]
  },
  {
   "cell_type": "code",
   "execution_count": 26,
   "id": "796c5450-3df4-478e-942e-3595537c9fe2",
   "metadata": {},
   "outputs": [
    {
     "data": {
      "image/png": "[encoded data removed]",
      "text/plain": [
       "<Figure size 640x480 with 1 Axes>"
      ]
     },
     "metadata": {},
     "output_type": "display_data"
    }
   ],
   "source": [
    "def draw_circle(x_center, y_center, radius):\n",
    "    x = radius\n",
    "    y = 0\n",
    "    p = 1 - radius\n",
    "\n",
    "    x_circle = []\n",
    "    y_circle = []\n",
    "    plot_coordinates(x, y, x_center, y_center, x_circle, y_circle)\n",
    "\n",
    "    while x > y:\n",
    "        y += 1\n",
    "        if p <= 0:\n",
    "            p = p + 2*y + 1\n",
    "\n",
    "        else:\n",
    "            x -= 1\n",
    "            p = p + 2*(y-x) + 1\n",
    "\n",
    "        if x < y:\n",
    "            break\n",
    "        plot_coordinates(x, y, x_center, y_center, x_circle, y_circle)\n",
    "\n",
    "    return x_circle, y_circle\n",
    "\n",
    "def plot_coordinates(x, y, x_center, y_center, x_circle, y_circle):\n",
    "    x_circle.append(x_center + x)\n",
    "    y_circle.append(y_center + y)\n",
    "    x_circle.append(x_center - x)\n",
    "    y_circle.append(y_center + y)\n",
    "    x_circle.append(x_center - x)\n",
    "    y_circle.append(y_center - y)\n",
    "    x_circle.append(x_center + x)\n",
    "    y_circle.append(y_center - y)\n",
    "\n",
    "    x_circle.append(x_center + y)\n",
    "    y_circle.append(y_center + x)\n",
    "    x_circle.append(x_center - y)\n",
    "    y_circle.append(y_center + x)\n",
    "    x_circle.append(x_center - y)\n",
    "    y_circle.append(y_center - x)\n",
    "    x_circle.append(x_center + y)\n",
    "    y_circle.append(y_center - x)\n",
    "\n",
    "#main\n",
    "x_center, y_center = 2, 3\n",
    "radius = 5\n",
    "# x_center = int(input())\n",
    "# y_center = int(input())\n",
    "# radius = int(input())\n",
    "\n",
    "x_circle, y_circle = draw_circle(x_center, y_center, radius)\n",
    "plt.scatter(x_circle, y_circle, color='black')\n",
    "plt.title('Circle')\n",
    "plt.xlabel('X-axis')\n",
    "plt.ylabel('Y-axis')\n",
    "plt.axis('equal')\n",
    "plt.show()"
   ]
  },
  {
   "cell_type": "code",
   "execution_count": null,
   "id": "b54ec19e-7f21-4144-98be-25770c873ee0",
   "metadata": {},
   "outputs": [],
   "source": []
  }
 ],
 "metadata": {
  "kernelspec": {
   "display_name": "Python 3 (ipykernel)",
   "language": "python",
   "name": "python3"
  },
  "language_info": {
   "codemirror_mode": {
    "name": "ipython",
    "version": 3
   },
   "file_extension": ".py",
   "mimetype": "text/x-python",
   "name": "python",
   "nbconvert_exporter": "python",
   "pygments_lexer": "ipython3",
   "version": "3.12.0"
  }
 },
 "nbformat": 4,
 "nbformat_minor": 5
}
