{
 "cells": [
  {
   "cell_type": "code",
   "execution_count": 1,
   "id": "40c4389e-997b-4853-ae18-f6bb0a89cf2f",
   "metadata": {},
   "outputs": [
    {
     "data": {
      "image/png": "[encoded data removed]",
      "text/plain": [
       "<Figure size 640x480 with 1 Axes>"
      ]
     },
     "metadata": {},
     "output_type": "display_data"
    }
   ],
   "source": [
    "import matplotlib.pyplot as plt\n",
    "\n",
    "def boundary_fill(image, x, y, fill_color, boundary_color):\n",
    "    stack = [(x, y)]\n",
    "    while stack:\n",
    "        current_pixel = stack.pop()\n",
    "        x, y = current_pixel\n",
    "        if (\n",
    "            0 <= x < len(image[0]) and\n",
    "            0 <= y < len(image) and\n",
    "            image[y][x] != fill_color and\n",
    "            image[y][x] != boundary_color\n",
    "        ):\n",
    "            image[y][x] = fill_color\n",
    "            stack.append((x + 1, y))\n",
    "            stack.append((x - 1, y))\n",
    "            stack.append((x, y + 1))\n",
    "            stack.append((x, y - 1))\n",
    "\n",
    "def plot_image(image):\n",
    "    plt.imshow(image, cmap='viridis')\n",
    "    plt.show()\n",
    "\n",
    "# Create a 10x10 matrix to represent the image\n",
    "image_size = 10\n",
    "image = [[0] * image_size for _ in range(image_size)]\n",
    "\n",
    "# Set the boundary of the image to 1\n",
    "for i in range(image_size):\n",
    "    image[0][i] = 1\n",
    "    image[i][0] = 1\n",
    "    image[image_size - 1][i] = 1\n",
    "    image[i][image_size - 1] = 1\n",
    "\n",
    "# Set some random interior points to 1 to represent obstacles\n",
    "image[2][2] = 1\n",
    "image[3][4] = 1\n",
    "image[6][8] = 1\n",
    "\n",
    "# Starting point for the boundary fill algorithm\n",
    "start_x, start_y = 5, 5\n",
    "\n",
    "# Fill color (2) and boundary color (1)\n",
    "fill_color = 2\n",
    "boundary_color = 1\n",
    "\n",
    "# Apply the boundary fill algorithm\n",
    "boundary_fill(image, start_x, start_y, fill_color, boundary_color)\n",
    "\n",
    "# Plot the result\n",
    "plot_image(image)\n"
   ]
  },
  {
   "cell_type": "code",
   "execution_count": null,
   "id": "5eed23fc-367d-4092-bfc8-be8aed2a2d3c",
   "metadata": {},
   "outputs": [],
   "source": []
  }
 ],
 "metadata": {
  "kernelspec": {
   "display_name": "Python 3 (ipykernel)",
   "language": "python",
   "name": "python3"
  },
  "language_info": {
   "codemirror_mode": {
    "name": "ipython",
    "version": 3
   },
   "file_extension": ".py",
   "mimetype": "text/x-python",
   "name": "python",
   "nbconvert_exporter": "python",
   "pygments_lexer": "ipython3",
   "version": "3.12.0"
  }
 },
 "nbformat": 4,
 "nbformat_minor": 5
}
