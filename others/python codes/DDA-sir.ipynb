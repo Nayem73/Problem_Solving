{
 "cells": [
  {
   "cell_type": "code",
   "execution_count": 1,
   "id": "0f2bf4ed-d4bb-42be-8fb6-b68b8cd91e29",
   "metadata": {},
   "outputs": [],
   "source": [
    "import matplotlib.pyplot as plt"
   ]
  },
  {
   "cell_type": "code",
   "execution_count": null,
   "id": "5898b6d2-7e71-4cc9-95ae-dba4ac464497",
   "metadata": {},
   "outputs": [],
   "source": [
    "def draw_line_dda(x1, y1, x2, y2):\n",
    "    # Calculate the differences between the coordinates\n",
    "    dx = x2 - x1\n",
    "    dy = y2 - y1\n",
    "\n",
    "    # Determine the number of steps to take based on the maximum difference\n",
    "    steps = max(abs(dx), abs(dy))\n",
    "\n",
    "    # get the slope\n",
    "    m = dy/dx\n",
    "    \n",
    "    # Initialize starting coordinates\n",
    "    x, y = x1, y1\n",
    "    # Create lists to store the coordinates of the line\n",
    "    line_x = [x]\n",
    "    line_y = [y]\n",
    "\n",
    "    if (abs(dx) >= abs(dy)):\n",
    "        for _ in range(steps):\n",
    "            x += 1\n",
    "            y += m\n",
    "            line_x.append(x)\n",
    "            line_y.append(y)\n",
    "\n",
    "    else:\n",
    "        for _ in range(steps):\n",
    "            x += 1/m\n",
    "            y += 1\n",
    "            line_x.append(x)\n",
    "            line_y.append(y)\n",
    "\n",
    "    return line_x, line_y\n",
    "\n",
    "\n",
    "# Example usage\n",
    "x1, y1 = 1, 1\n",
    "x2, y2 = 8, 4\n",
    "\n",
    "line_x, line_y = draw_line_dda(x1, y1, x2, y2)\n",
    "\n",
    "# Plot the line\n",
    "plt.plot(line_x, line_y, marker='o')\n",
    "plt.title('DDA Line Drawing Algorithm')\n",
    "plt.xlabel('X-axis')\n",
    "plt.ylabel('Y-axis')\n",
    "plt.show()"
   ]
  }
 ],
 "metadata": {
  "kernelspec": {
   "display_name": "Python 3 (ipykernel)",
   "language": "python",
   "name": "python3"
  },
  "language_info": {
   "codemirror_mode": {
    "name": "ipython",
    "version": 3
   },
   "file_extension": ".py",
   "mimetype": "text/x-python",
   "name": "python",
   "nbconvert_exporter": "python",
   "pygments_lexer": "ipython3",
   "version": "3.12.0"
  }
 },
 "nbformat": 4,
 "nbformat_minor": 5
}
